{
 "cells": [
  {
   "cell_type": "code",
   "execution_count": 2,
   "id": "fc1abfad-ee09-4cbe-99ed-99b72aaabeab",
   "metadata": {},
   "outputs": [
    {
     "name": "stdout",
     "output_type": "stream",
     "text": [
      "Hello world\n"
     ]
    }
   ],
   "source": [
    "print(\"Hello world\")"
   ]
  },
  {
   "cell_type": "code",
   "execution_count": 18,
   "id": "68feacbf-4f85-491a-9862-2f7f0dd896f9",
   "metadata": {},
   "outputs": [
    {
     "name": "stdout",
     "output_type": "stream",
     "text": [
      "❤️ \n",
      "❤️ ❤️ \n",
      "❤️ ❤️ ❤️ \n",
      "❤️ ❤️ ❤️ ❤️ \n",
      "❤️ ❤️ ❤️ ❤️ ❤️ \n"
     ]
    }
   ],
   "source": [
    "n=5\n",
    "for i in range (n):\n",
    "    for j in range (i+1):\n",
    "        print(\"❤️\", end=\" \")\n",
    "    print()"
   ]
  },
  {
   "cell_type": "code",
   "execution_count": 32,
   "id": "22b185b7-616a-4fa9-89e4-b584d25fb626",
   "metadata": {},
   "outputs": [
    {
     "name": "stdout",
     "output_type": "stream",
     "text": [
      "💕💕💕💕💕\n",
      "💕💕💕💕\n",
      "💕💕💕\n",
      "💕💕\n",
      "💕\n"
     ]
    }
   ],
   "source": [
    "n=5\n",
    "for i in range (n,0,-1):\n",
    "    print(\"💕\"* i)"
   ]
  },
  {
   "cell_type": "code",
   "execution_count": 34,
   "id": "60d8314c-0681-4e23-b0bf-f0daa59d60c4",
   "metadata": {},
   "outputs": [
    {
     "name": "stdout",
     "output_type": "stream",
     "text": [
      "💜💜💜💜❤️\n",
      "💜💜💜❤️❤️\n",
      "💜💜❤️❤️❤️\n",
      "💜❤️❤️❤️❤️\n",
      "❤️❤️❤️❤️❤️\n"
     ]
    }
   ],
   "source": [
    "n = 5\n",
    "for i in range(1, n+1):\n",
    "    print(\"💜\" * (n - i) + \"❤️\" * i)"
   ]
  },
  {
   "cell_type": "code",
   "execution_count": 36,
   "id": "0680b619-5561-46d1-8ed1-3e0d4c460645",
   "metadata": {},
   "outputs": [
    {
     "name": "stdout",
     "output_type": "stream",
     "text": [
      "Reinitialized existing Git repository in G:/Machine_learning/Supervise_Learning/.git/\n"
     ]
    }
   ],
   "source": [
    "!git init"
   ]
  },
  {
   "cell_type": "code",
   "execution_count": 38,
   "id": "87056035-3422-46a3-b321-4d96b56fe4b1",
   "metadata": {},
   "outputs": [
    {
     "name": "stderr",
     "output_type": "stream",
     "text": [
      "warning: in the working copy of 'trial2.ipynb', LF will be replaced by CRLF the next time Git touches it\n"
     ]
    }
   ],
   "source": [
    "!git add trial2.ipynb"
   ]
  },
  {
   "cell_type": "code",
   "execution_count": 40,
   "id": "867756ed-34e4-4413-8e66-1114c1b068e9",
   "metadata": {},
   "outputs": [
    {
     "name": "stderr",
     "output_type": "stream",
     "text": [
      "warning: in the working copy of 'Linear_regression_fake.ipynb', LF will be replaced by CRLF the next time Git touches it\n",
      "warning: in the working copy of '.ipynb_checkpoints/trial2-checkpoint.ipynb', LF will be replaced by CRLF the next time Git touches it\n"
     ]
    }
   ],
   "source": [
    "!git add ."
   ]
  },
  {
   "cell_type": "code",
   "execution_count": 46,
   "id": "dd65b035-d6c1-4f3e-918a-cdfdbdea714c",
   "metadata": {},
   "outputs": [
    {
     "name": "stderr",
     "output_type": "stream",
     "text": [
      "Everything up-to-date\n"
     ]
    }
   ],
   "source": [
    "!git push"
   ]
  },
  {
   "cell_type": "code",
   "execution_count": null,
   "id": "760944bc-5f37-4140-a6d0-a3d2a5525356",
   "metadata": {},
   "outputs": [],
   "source": []
  }
 ],
 "metadata": {
  "kernelspec": {
   "display_name": "Python [conda env:base] *",
   "language": "python",
   "name": "conda-base-py"
  },
  "language_info": {
   "codemirror_mode": {
    "name": "ipython",
    "version": 3
   },
   "file_extension": ".py",
   "mimetype": "text/x-python",
   "name": "python",
   "nbconvert_exporter": "python",
   "pygments_lexer": "ipython3",
   "version": "3.12.7"
  }
 },
 "nbformat": 4,
 "nbformat_minor": 5
}
